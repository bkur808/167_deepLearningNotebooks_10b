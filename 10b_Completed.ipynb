{
  "cells": [
    {
      "cell_type": "markdown",
      "metadata": {
        "colab_type": "text",
        "id": "view-in-github"
      },
      "source": [
        "<a href=\"https://colab.research.google.com/github/udlbook/udlbook/blob/main/Notebooks/Chap10/10_2_Convolution_for_MNIST_1D.ipynb\" target=\"_parent\"><img src=\"https://colab.research.google.com/assets/colab-badge.svg\" alt=\"Open In Colab\"/></a>"
      ]
    },
    {
      "cell_type": "markdown",
      "metadata": {
        "id": "t9vk9Elugvmi"
      },
      "source": [
        "# **Notebook 10.2: Convolution for MNIST-1D**\n",
        "\n",
        "This notebook investigates a 1D convolutional network for MNIST-1D as in figure 10.7 and 10.8a.\n",
        "\n",
        "Work through the cells below, running each cell in turn. In various places you will see the words \"TO DO\". Follow the instructions at these places and make predictions about what is going to happen or write code to complete the functions.\n",
        "\n",
        "Contact me at udlbookmail@gmail.com if you find any mistakes or have any suggestions.\n",
        "\n"
      ]
    },
    {
      "cell_type": "code",
      "execution_count": null,
      "metadata": {
        "id": "D5yLObtZCi9J"
      },
      "outputs": [],
      "source": [
        "# Run this if you're in a Colab to install MNIST 1D repository\n",
        "!pip install git+https://github.com/greydanus/mnist1d"
      ]
    },
    {
      "cell_type": "code",
      "execution_count": 5,
      "metadata": {
        "id": "YrXWAH7sUWvU"
      },
      "outputs": [],
      "source": [
        "import numpy as np\n",
        "import os\n",
        "import torch, torch.nn as nn\n",
        "from torch.utils.data import TensorDataset, DataLoader\n",
        "from torch.optim.lr_scheduler import StepLR\n",
        "import matplotlib.pyplot as plt\n",
        "import mnist1d\n",
        "import random"
      ]
    },
    {
      "cell_type": "code",
      "execution_count": 6,
      "metadata": {
        "id": "twI72ZCrCt5z"
      },
      "outputs": [
        {
          "name": "stdout",
          "output_type": "stream",
          "text": [
            "Successfully loaded data from ./mnist1d_data.pkl\n",
            "Examples in training set: 4000\n",
            "Examples in test set: 1000\n",
            "Length of each example: 40\n"
          ]
        }
      ],
      "source": [
        "args = mnist1d.data.get_dataset_args()\n",
        "data = mnist1d.data.get_dataset(args, path='./mnist1d_data.pkl', download=False, regenerate=False)\n",
        "\n",
        "# The training and test input and outputs are in\n",
        "# data['x'], data['y'], data['x_test'], and data['y_test']\n",
        "print(\"Examples in training set: {}\".format(len(data['y'])))\n",
        "print(\"Examples in test set: {}\".format(len(data['y_test'])))\n",
        "print(\"Length of each example: {}\".format(data['x'].shape[-1]))"
      ]
    },
    {
      "cell_type": "code",
      "execution_count": 7,
      "metadata": {
        "id": "8bKADvLHbiV5"
      },
      "outputs": [
        {
          "name": "stdout",
          "output_type": "stream",
          "text": [
            "Train data: 4000 examples (columns), each of which has 40 dimensions (rows)\n",
            "Validation data: 1000 examples (columns), each of which has 40 dimensions (rows)\n"
          ]
        }
      ],
      "source": [
        "# Load in the data\n",
        "train_data_x = data['x'].transpose()\n",
        "train_data_y = data['y']\n",
        "val_data_x = data['x_test'].transpose()\n",
        "val_data_y = data['y_test']\n",
        "# Print out sizes\n",
        "print(\"Train data: %d examples (columns), each of which has %d dimensions (rows)\"%((train_data_x.shape[1],train_data_x.shape[0])))\n",
        "print(\"Validation data: %d examples (columns), each of which has %d dimensions (rows)\"%((val_data_x.shape[1],val_data_x.shape[0])))"
      ]
    },
    {
      "cell_type": "markdown",
      "metadata": {
        "id": "_sFvRDGrl4qe"
      },
      "source": [
        "Define the network"
      ]
    },
    {
      "cell_type": "code",
      "execution_count": 9,
      "metadata": {
        "id": "FslroPJJffrh"
      },
      "outputs": [],
      "source": [
        "# There are 40 input dimensions and 10 output dimensions for this data\n",
        "# The inputs correspond to the 40 offsets in the MNIST1D template.\n",
        "D_i = 40\n",
        "# The outputs correspond to the 10 digits\n",
        "D_o = 10\n",
        "\n",
        "\n",
        "# TODO Create a model with the following layers\n",
        "# 1. Convolutional layer, (input=length 40 and 1 channel, kernel size 3, stride 2, padding=\"valid\", 15 output channels )\n",
        "# 2. ReLU\n",
        "# 3. Convolutional layer, (input=length 19 and 15 channels, kernel size 3, stride 2, padding=\"valid\", 15 output channels )\n",
        "# 4. ReLU\n",
        "# 5. Convolutional layer, (input=length 9 and 15 channels, kernel size 3, stride 2, padding=\"valid\", 15 output channels)\n",
        "# 6. ReLU\n",
        "# 7. Flatten (converts 4x15) to length 60\n",
        "# 8. Linear layer (input size = 60, output size = 10)\n",
        "# References:\n",
        "# https://pytorch.org/docs/1.13/generated/torch.nn.Conv1d.html?highlight=conv1d#torch.nn.Conv1d\n",
        "# https://pytorch.org/docs/stable/generated/torch.nn.Flatten.html\n",
        "# https://pytorch.org/docs/1.13/generated/torch.nn.Linear.html?highlight=linear#torch.nn.Linear\n",
        "\n",
        "# NOTE THAT THE CONVOLUTIONAL LAYERS NEED TO TAKE THE NUMBER OF INPUT CHANNELS AS A PARAMETER\n",
        "# AND NOT THE INPUT SIZE.\n",
        "\n",
        "# Replace the following function:\n",
        "model = nn.Sequential(\n",
        "nn.Conv1d(in_channels = 1, out_channels = 15, kernel_size = 3, stride = 2, padding = \"valid\"),\n",
        "nn.ReLU(),\n",
        "nn.Conv1d(in_channels = 15, out_channels = 15, kernel_size = 3, stride = 2, padding = \"valid\"),\n",
        "nn.ReLU(),\n",
        "nn.Conv1d(in_channels = 15, out_channels = 15, kernel_size = 3, stride = 2, padding = \"valid\"),\n",
        "nn.ReLU(),\n",
        "nn.Flatten(),\n",
        "nn.Linear(60,10))\n",
        "\n",
        "\n",
        "\n"
      ]
    },
    {
      "cell_type": "code",
      "execution_count": 10,
      "metadata": {
        "id": "YgLaex1pfhqz"
      },
      "outputs": [],
      "source": [
        "# He initialization of weights\n",
        "def weights_init(layer_in):\n",
        "  if isinstance(layer_in, nn.Linear):\n",
        "    nn.init.kaiming_uniform_(layer_in.weight)\n",
        "    layer_in.bias.data.fill_(0.0)"
      ]
    },
    {
      "cell_type": "code",
      "execution_count": 11,
      "metadata": {
        "id": "NYw8I_3mmX5c"
      },
      "outputs": [
        {
          "name": "stdout",
          "output_type": "stream",
          "text": [
            "Epoch     0, train loss 2.131381, train error 82.70,  val loss 2.127339, percent error 84.20\n",
            "Epoch     1, train loss 1.523897, train error 59.58,  val loss 1.546739, percent error 64.70\n",
            "Epoch     2, train loss 1.384123, train error 55.03,  val loss 1.390731, percent error 57.80\n",
            "Epoch     3, train loss 1.267868, train error 51.60,  val loss 1.300902, percent error 53.40\n",
            "Epoch     4, train loss 1.239554, train error 51.28,  val loss 1.234904, percent error 53.70\n",
            "Epoch     5, train loss 1.138799, train error 46.70,  val loss 1.149267, percent error 49.80\n",
            "Epoch     6, train loss 1.231246, train error 49.97,  val loss 1.241315, percent error 51.60\n",
            "Epoch     7, train loss 0.966563, train error 38.72,  val loss 1.008978, percent error 41.30\n",
            "Epoch     8, train loss 0.819088, train error 31.93,  val loss 0.870310, percent error 35.20\n",
            "Epoch     9, train loss 0.772687, train error 29.03,  val loss 0.838783, percent error 31.70\n",
            "Epoch    10, train loss 0.677501, train error 25.70,  val loss 0.750389, percent error 28.40\n",
            "Epoch    11, train loss 0.651366, train error 24.65,  val loss 0.730094, percent error 27.40\n",
            "Epoch    12, train loss 0.530922, train error 20.97,  val loss 0.643324, percent error 24.80\n",
            "Epoch    13, train loss 0.508348, train error 19.20,  val loss 0.631115, percent error 22.60\n",
            "Epoch    14, train loss 0.416578, train error 15.88,  val loss 0.521678, percent error 19.20\n",
            "Epoch    15, train loss 0.373525, train error 13.80,  val loss 0.501189, percent error 18.70\n",
            "Epoch    16, train loss 0.387203, train error 14.18,  val loss 0.521578, percent error 16.60\n",
            "Epoch    17, train loss 0.349278, train error 12.95,  val loss 0.493385, percent error 15.70\n",
            "Epoch    18, train loss 0.336827, train error 12.93,  val loss 0.477010, percent error 16.40\n",
            "Epoch    19, train loss 0.323056, train error 12.22,  val loss 0.462947, percent error 16.60\n",
            "Epoch    20, train loss 0.238345, train error 8.35,  val loss 0.410547, percent error 13.60\n",
            "Epoch    21, train loss 0.203260, train error 6.75,  val loss 0.394333, percent error 12.50\n",
            "Epoch    22, train loss 0.183480, train error 5.57,  val loss 0.386001, percent error 13.10\n",
            "Epoch    23, train loss 0.165501, train error 5.18,  val loss 0.381471, percent error 12.40\n",
            "Epoch    24, train loss 0.169894, train error 5.43,  val loss 0.395105, percent error 11.10\n",
            "Epoch    25, train loss 0.146501, train error 4.40,  val loss 0.377251, percent error 10.70\n",
            "Epoch    26, train loss 0.163625, train error 5.78,  val loss 0.413560, percent error 13.10\n",
            "Epoch    27, train loss 0.153112, train error 5.30,  val loss 0.402982, percent error 14.20\n",
            "Epoch    28, train loss 0.134929, train error 4.45,  val loss 0.389456, percent error 10.80\n",
            "Epoch    29, train loss 0.141224, train error 5.05,  val loss 0.418951, percent error 11.60\n",
            "Epoch    30, train loss 0.143005, train error 5.00,  val loss 0.444613, percent error 12.90\n",
            "Epoch    31, train loss 0.109568, train error 3.22,  val loss 0.380009, percent error 10.50\n",
            "Epoch    32, train loss 0.110315, train error 3.68,  val loss 0.400993, percent error 10.90\n",
            "Epoch    33, train loss 0.092896, train error 2.55,  val loss 0.388041, percent error 10.40\n",
            "Epoch    34, train loss 0.112272, train error 3.45,  val loss 0.444541, percent error 11.30\n",
            "Epoch    35, train loss 0.088152, train error 2.60,  val loss 0.398273, percent error 10.80\n",
            "Epoch    36, train loss 0.086732, train error 2.88,  val loss 0.394603, percent error 10.00\n",
            "Epoch    37, train loss 0.098062, train error 3.72,  val loss 0.433879, percent error 10.10\n",
            "Epoch    38, train loss 0.079194, train error 2.53,  val loss 0.394940, percent error 10.30\n",
            "Epoch    39, train loss 0.072111, train error 2.15,  val loss 0.409461, percent error 10.50\n",
            "Epoch    40, train loss 0.057143, train error 1.50,  val loss 0.391650, percent error 9.30\n",
            "Epoch    41, train loss 0.053947, train error 0.95,  val loss 0.395138, percent error 9.10\n",
            "Epoch    42, train loss 0.053938, train error 1.28,  val loss 0.411091, percent error 9.50\n",
            "Epoch    43, train loss 0.053301, train error 1.25,  val loss 0.402328, percent error 9.40\n",
            "Epoch    44, train loss 0.053857, train error 1.32,  val loss 0.421004, percent error 10.20\n",
            "Epoch    45, train loss 0.052107, train error 1.30,  val loss 0.426880, percent error 9.80\n",
            "Epoch    46, train loss 0.046989, train error 0.88,  val loss 0.419787, percent error 9.50\n",
            "Epoch    47, train loss 0.068496, train error 2.25,  val loss 0.464910, percent error 10.90\n",
            "Epoch    48, train loss 0.048657, train error 0.97,  val loss 0.436792, percent error 10.00\n",
            "Epoch    49, train loss 0.051330, train error 1.05,  val loss 0.422520, percent error 10.10\n",
            "Epoch    50, train loss 0.046007, train error 1.28,  val loss 0.447390, percent error 8.90\n",
            "Epoch    51, train loss 0.049001, train error 1.43,  val loss 0.441012, percent error 9.60\n",
            "Epoch    52, train loss 0.043658, train error 0.82,  val loss 0.467252, percent error 10.40\n",
            "Epoch    53, train loss 0.039318, train error 0.70,  val loss 0.436151, percent error 9.50\n",
            "Epoch    54, train loss 0.037819, train error 0.75,  val loss 0.441375, percent error 9.80\n",
            "Epoch    55, train loss 0.049204, train error 1.38,  val loss 0.441858, percent error 9.90\n",
            "Epoch    56, train loss 0.037669, train error 0.62,  val loss 0.447457, percent error 9.90\n",
            "Epoch    57, train loss 0.037807, train error 0.82,  val loss 0.466785, percent error 10.20\n",
            "Epoch    58, train loss 0.036426, train error 0.72,  val loss 0.453995, percent error 10.10\n",
            "Epoch    59, train loss 0.038619, train error 0.85,  val loss 0.458578, percent error 10.40\n",
            "Epoch    60, train loss 0.031741, train error 0.62,  val loss 0.454995, percent error 10.40\n",
            "Epoch    61, train loss 0.033015, train error 0.57,  val loss 0.457823, percent error 9.70\n",
            "Epoch    62, train loss 0.032657, train error 0.50,  val loss 0.472895, percent error 10.40\n",
            "Epoch    63, train loss 0.031191, train error 0.50,  val loss 0.463745, percent error 10.00\n",
            "Epoch    64, train loss 0.030920, train error 0.53,  val loss 0.469193, percent error 10.30\n",
            "Epoch    65, train loss 0.029046, train error 0.47,  val loss 0.466386, percent error 10.20\n",
            "Epoch    66, train loss 0.029368, train error 0.50,  val loss 0.467921, percent error 9.80\n",
            "Epoch    67, train loss 0.031361, train error 0.53,  val loss 0.475986, percent error 10.00\n",
            "Epoch    68, train loss 0.028516, train error 0.43,  val loss 0.467307, percent error 9.90\n",
            "Epoch    69, train loss 0.027495, train error 0.43,  val loss 0.467950, percent error 9.80\n",
            "Epoch    70, train loss 0.029567, train error 0.40,  val loss 0.477826, percent error 10.00\n",
            "Epoch    71, train loss 0.027638, train error 0.38,  val loss 0.479658, percent error 9.80\n",
            "Epoch    72, train loss 0.028879, train error 0.47,  val loss 0.479296, percent error 10.50\n",
            "Epoch    73, train loss 0.027282, train error 0.40,  val loss 0.484656, percent error 10.40\n",
            "Epoch    74, train loss 0.026097, train error 0.35,  val loss 0.471218, percent error 9.70\n",
            "Epoch    75, train loss 0.026090, train error 0.38,  val loss 0.475360, percent error 9.80\n",
            "Epoch    76, train loss 0.025883, train error 0.30,  val loss 0.484323, percent error 9.80\n",
            "Epoch    77, train loss 0.025219, train error 0.30,  val loss 0.476944, percent error 9.40\n",
            "Epoch    78, train loss 0.025639, train error 0.32,  val loss 0.474862, percent error 9.70\n",
            "Epoch    79, train loss 0.024795, train error 0.30,  val loss 0.484206, percent error 10.00\n",
            "Epoch    80, train loss 0.024194, train error 0.25,  val loss 0.487605, percent error 10.30\n",
            "Epoch    81, train loss 0.023950, train error 0.22,  val loss 0.488596, percent error 9.90\n",
            "Epoch    82, train loss 0.023910, train error 0.25,  val loss 0.488638, percent error 10.00\n",
            "Epoch    83, train loss 0.023502, train error 0.22,  val loss 0.487267, percent error 9.80\n",
            "Epoch    84, train loss 0.023433, train error 0.22,  val loss 0.488073, percent error 9.90\n",
            "Epoch    85, train loss 0.023279, train error 0.22,  val loss 0.490221, percent error 10.10\n",
            "Epoch    86, train loss 0.023144, train error 0.20,  val loss 0.490159, percent error 9.90\n",
            "Epoch    87, train loss 0.023290, train error 0.22,  val loss 0.495301, percent error 10.00\n",
            "Epoch    88, train loss 0.023341, train error 0.22,  val loss 0.498578, percent error 10.30\n",
            "Epoch    89, train loss 0.022831, train error 0.20,  val loss 0.495251, percent error 10.20\n",
            "Epoch    90, train loss 0.022680, train error 0.20,  val loss 0.490848, percent error 9.70\n",
            "Epoch    91, train loss 0.022688, train error 0.15,  val loss 0.498640, percent error 10.00\n",
            "Epoch    92, train loss 0.022525, train error 0.22,  val loss 0.495027, percent error 9.80\n",
            "Epoch    93, train loss 0.022145, train error 0.18,  val loss 0.495780, percent error 9.90\n",
            "Epoch    94, train loss 0.022788, train error 0.20,  val loss 0.490160, percent error 9.40\n",
            "Epoch    95, train loss 0.021964, train error 0.15,  val loss 0.496702, percent error 9.90\n",
            "Epoch    96, train loss 0.021916, train error 0.18,  val loss 0.496862, percent error 9.80\n",
            "Epoch    97, train loss 0.021636, train error 0.12,  val loss 0.498022, percent error 9.70\n",
            "Epoch    98, train loss 0.021593, train error 0.15,  val loss 0.496241, percent error 9.80\n",
            "Epoch    99, train loss 0.021550, train error 0.18,  val loss 0.503471, percent error 10.20\n"
          ]
        },
        {
          "data": {
            "image/png": "[encoded data removed]",
            "text/plain": [
              "<Figure size 432x288 with 1 Axes>"
            ]
          },
          "metadata": {
            "needs_background": "light"
          },
          "output_type": "display_data"
        }
      ],
      "source": [
        "# choose cross entropy loss function (equation 5.24 in the loss notes)\n",
        "loss_function = nn.CrossEntropyLoss()\n",
        "# construct SGD optimizer and initialize learning rate and momentum\n",
        "optimizer = torch.optim.SGD(model.parameters(), lr = 0.05, momentum=0.9)\n",
        "# object that decreases learning rate by half every 20 epochs\n",
        "scheduler = StepLR(optimizer, step_size=20, gamma=0.5)\n",
        "# create 100 dummy data points and store in data loader class\n",
        "x_train = torch.tensor(train_data_x.transpose().astype('float32'))\n",
        "y_train = torch.tensor(train_data_y.astype('long')).long()\n",
        "x_val= torch.tensor(val_data_x.transpose().astype('float32'))\n",
        "y_val = torch.tensor(val_data_y.astype('long')).long()\n",
        "\n",
        "# load the data into a class that creates the batches\n",
        "data_loader = DataLoader(TensorDataset(x_train,y_train), batch_size=100, shuffle=True, worker_init_fn=np.random.seed(1))\n",
        "\n",
        "# Initialize model weights\n",
        "model.apply(weights_init)\n",
        "\n",
        "# loop over the dataset n_epoch times\n",
        "n_epoch = 100\n",
        "# store the loss and the % correct at each epoch\n",
        "losses_train = np.zeros((n_epoch))\n",
        "errors_train = np.zeros((n_epoch))\n",
        "losses_val = np.zeros((n_epoch))\n",
        "errors_val = np.zeros((n_epoch))\n",
        "\n",
        "for epoch in range(n_epoch):\n",
        "  # loop over batches\n",
        "  for i, data in enumerate(data_loader):\n",
        "    # retrieve inputs and labels for this batch\n",
        "    x_batch, y_batch = data\n",
        "    # zero the parameter gradients\n",
        "    optimizer.zero_grad()\n",
        "    # forward pass -- calculate model output\n",
        "    pred = model(x_batch[:,None,:])\n",
        "    # compute the loss\n",
        "    loss = loss_function(pred, y_batch)\n",
        "    # backward pass\n",
        "    loss.backward()\n",
        "    # SGD update\n",
        "    optimizer.step()\n",
        "\n",
        "  # Run whole dataset to get statistics -- normally wouldn't do this\n",
        "  pred_train = model(x_train[:,None,:])\n",
        "  pred_val = model(x_val[:,None,:])\n",
        "  _, predicted_train_class = torch.max(pred_train.data, 1)\n",
        "  _, predicted_val_class = torch.max(pred_val.data, 1)\n",
        "  errors_train[epoch] = 100 - 100 * (predicted_train_class == y_train).float().sum() / len(y_train)\n",
        "  errors_val[epoch]= 100 - 100 * (predicted_val_class == y_val).float().sum() / len(y_val)\n",
        "  losses_train[epoch] = loss_function(pred_train, y_train).item()\n",
        "  losses_val[epoch]= loss_function(pred_val, y_val).item()\n",
        "  print(f'Epoch {epoch:5d}, train loss {losses_train[epoch]:.6f}, train error {errors_train[epoch]:3.2f},  val loss {losses_val[epoch]:.6f}, percent error {errors_val[epoch]:3.2f}')\n",
        "\n",
        "  # tell scheduler to consider updating learning rate\n",
        "  scheduler.step()\n",
        "\n",
        "# Plot the results\n",
        "fig, ax = plt.subplots()\n",
        "ax.plot(errors_train,'r-',label='train')\n",
        "ax.plot(errors_val,'b-',label='validation')\n",
        "ax.set_ylim(0,100); ax.set_xlim(0,n_epoch)\n",
        "ax.set_xlabel('Epoch'); ax.set_ylabel('Error')\n",
        "ax.set_title('Part I: Validation Result %3.2f'%(errors_val[-1]))\n",
        "ax.legend()\n",
        "plt.show()"
      ]
    }
  ],
  "metadata": {
    "colab": {
      "authorship_tag": "ABX9TyNb46PJB/CC1pcHGfjpUUZg",
      "include_colab_link": true,
      "provenance": []
    },
    "kernelspec": {
      "display_name": "Python 3",
      "name": "python3"
    },
    "language_info": {
      "codemirror_mode": {
        "name": "ipython",
        "version": 3
      },
      "file_extension": ".py",
      "mimetype": "text/x-python",
      "name": "python",
      "nbconvert_exporter": "python",
      "pygments_lexer": "ipython3",
      "version": "3.10.12"
    }
  },
  "nbformat": 4,
  "nbformat_minor": 0
}
